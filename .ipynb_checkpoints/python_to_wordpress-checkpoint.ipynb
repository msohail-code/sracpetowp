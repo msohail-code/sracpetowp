{
 "cells": [
  {
   "cell_type": "code",
   "execution_count": 2,
   "id": "aca828fd",
   "metadata": {},
   "outputs": [],
   "source": [
    "import xmlrpc"
   ]
  },
  {
   "cell_type": "code",
   "execution_count": 8,
   "id": "64f3778d",
   "metadata": {},
   "outputs": [],
   "source": [
    "from wordpress_xmlrpc import Client, WordPressPost\n",
    "from wordpress_xmlrpc.methods.posts import GetPosts, NewPost\n",
    "from wordpress_xmlrpc.methods.users import GetUserInfo\n",
    "from wordpress_xmlrpc.compat import xmlrpc_client\n",
    "from wordpress_xmlrpc.methods import media, posts"
   ]
  },
  {
   "cell_type": "code",
   "execution_count": 18,
   "id": "64a1547a",
   "metadata": {},
   "outputs": [],
   "source": [
    "wp_username = \"admin\"\n",
    "wp_pass = \"admin\""
   ]
  },
  {
   "cell_type": "code",
   "execution_count": 19,
   "id": "cb0f7ecb",
   "metadata": {},
   "outputs": [],
   "source": [
    "def make_post_on_wp(content):\n",
    "    wp = Client(\"http://localhost/wordpress/xmlrpc.php\", wp_username, wp_pass)\n",
    "    post = WordPressPost()\n",
    "    post.title = content[\"title\"]\n",
    "    post.content = content[\"body\"]\n",
    "    post.terms_names = {\n",
    "        'post_tag' : [\"checking working\", \"Working now\"],\n",
    "        'category' : ['News', \"Update\"]\n",
    "    }\n",
    "    \n",
    "    filename = content[\"filename\"]\n",
    "    data = {\n",
    "        'name': filename,\n",
    "        'type': 'image/jpeg'\n",
    "    }\n",
    "    \n",
    "    with open(filename, 'rb') as img:\n",
    "        data['bits'] = xmlrpc_client.Binary(img.read())\n",
    "        response = wp.call(media.UploadFile(data))\n",
    "    \n",
    "    attachment_id = response['id']\n",
    "    \n",
    "    post.thumbnail = attachment_id\n",
    "    # post.post_status = 'publish'\n",
    "    post.id = wp.call(posts.NewPost(post))\n",
    "    \n",
    "    print(\"Successfully Posted to our Blog!!!\")"
   ]
  },
  {
   "cell_type": "code",
   "execution_count": 20,
   "id": "0df9dcc0",
   "metadata": {},
   "outputs": [
    {
     "name": "stdout",
     "output_type": "stream",
     "text": [
      "Successfully Posted to our Blog!!!\n"
     ]
    }
   ],
   "source": [
    "content = {\n",
    "    'title': \"This is first post\",\n",
    "    'body': \"This is the content of the Post.\",\n",
    "    'filename': 'python.jpg'\n",
    "}\n",
    "\n",
    "make_post_on_wp(content)"
   ]
  },
  {
   "cell_type": "code",
   "execution_count": 21,
   "id": "dde9fd89",
   "metadata": {},
   "outputs": [
    {
     "name": "stdout",
     "output_type": "stream",
     "text": [
      "Successfully Posted to our Blog!!!\n"
     ]
    }
   ],
   "source": [
    "content = {\n",
    "    'title': \"This is second  post\",\n",
    "    'body': \"This is the content of the Post.\",\n",
    "    'filename': 'python.jpg'\n",
    "}\n",
    "\n",
    "make_post_on_wp(content)"
   ]
  },
  {
   "cell_type": "code",
   "execution_count": 22,
   "id": "755b8974",
   "metadata": {},
   "outputs": [],
   "source": [
    "import requests\n",
    "import os\n",
    "from newspaper import Article"
   ]
  },
  {
   "cell_type": "code",
   "execution_count": 28,
   "id": "8d74ccf9",
   "metadata": {},
   "outputs": [],
   "source": [
    "def article_content(url):\n",
    "    content = dict()\n",
    "    article = Article(url, language=\"en\")\n",
    "    article.download()\n",
    "    article.parse()\n",
    "    content['title'] = article.title\n",
    "    content['body'] = article.text\n",
    "    \n",
    "    \n",
    "    #print(article.title)\n",
    "    #print(article.text)\n",
    "    #print(article.top_image)\n",
    "    \n",
    "    resp = requests.get(article.top_image)\n",
    "    with open('image.jpg', 'wb') as imagefile:\n",
    "        imagefile.write(resp.content)\n",
    "    \n",
    "    content['filename'] = 'image.jpg'\n",
    "    \n",
    "    \n",
    "    return content    "
   ]
  },
  {
   "cell_type": "code",
   "execution_count": 31,
   "id": "2381a96a",
   "metadata": {},
   "outputs": [
    {
     "name": "stdout",
     "output_type": "stream",
     "text": [
      "Title:  OnePlus 10T 5G Specifications, Renders Leak Ahead of Launch\n",
      "Body:  OnePlus 10T 5G has been leaked ahead of its August 3 launch event. These leaks tip full device specifications and showcase the design of the upcoming OnePlus smartphone in renders. This isn't the first time the OnePlus 10T 5G has leaked, and the company h\n",
      "image:  python.jpg\n"
     ]
    }
   ],
   "source": [
    "url = \"https://gadgets360.com/mobiles/news/oneplus-10t-5g-specification-leaks-august-2022-launch-snapdragon-8-gen-1-3195990\"\n",
    "\n",
    "ourArticle = article_content(url)\n",
    "print(\"Title: \",ourArticle['title'])\n",
    "print(\"Body: \", ourArticle['body'][0:255])\n",
    "print(\"image: \", ourArticle['filename'])"
   ]
  }
 ],
 "metadata": {
  "kernelspec": {
   "display_name": "Python 3 (ipykernel)",
   "language": "python",
   "name": "python3"
  },
  "language_info": {
   "codemirror_mode": {
    "name": "ipython",
    "version": 3
   },
   "file_extension": ".py",
   "mimetype": "text/x-python",
   "name": "python",
   "nbconvert_exporter": "python",
   "pygments_lexer": "ipython3",
   "version": "3.10.5"
  }
 },
 "nbformat": 4,
 "nbformat_minor": 5
}
