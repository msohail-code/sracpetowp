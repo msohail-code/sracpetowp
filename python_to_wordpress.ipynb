{
 "cells": [
  {
   "cell_type": "code",
   "execution_count": 35,
   "id": "17d6e505",
   "metadata": {},
   "outputs": [],
   "source": [
    "import xmlrpc"
   ]
  },
  {
   "cell_type": "code",
   "execution_count": 8,
   "id": "486bad00",
   "metadata": {},
   "outputs": [],
   "source": [
    "from wordpress_xmlrpc import Client, WordPressPost\n",
    "from wordpress_xmlrpc.methods.posts import GetPosts, NewPost\n",
    "from wordpress_xmlrpc.methods.users import GetUserInfo\n",
    "from wordpress_xmlrpc.compat import xmlrpc_client\n",
    "from wordpress_xmlrpc.methods import media, posts"
   ]
  },
  {
   "cell_type": "code",
   "execution_count": 18,
   "id": "d11833ca",
   "metadata": {},
   "outputs": [],
   "source": [
    "wp_username = \"admin\"\n",
    "wp_pass = \"admin\""
   ]
  },
  {
   "cell_type": "code",
   "execution_count": 19,
   "id": "29307cbf",
   "metadata": {},
   "outputs": [],
   "source": [
    "def make_post_on_wp(content):\n",
    "    wp = Client(\"http://localhost/wordpress/xmlrpc.php\", wp_username, wp_pass)\n",
    "    post = WordPressPost()\n",
    "    post.title = content[\"title\"]\n",
    "    post.content = content[\"body\"]\n",
    "    post.terms_names = {\n",
    "        'post_tag' : [\"checking working\", \"Working now\"],\n",
    "        'category' : ['News', \"Update\"]\n",
    "    }\n",
    "    \n",
    "    filename = content[\"filename\"]\n",
    "    data = {\n",
    "        'name': filename,\n",
    "        'type': 'image/jpeg'\n",
    "    }\n",
    "    \n",
    "    with open(filename, 'rb') as img:\n",
    "        data['bits'] = xmlrpc_client.Binary(img.read())\n",
    "        response = wp.call(media.UploadFile(data))\n",
    "    \n",
    "    attachment_id = response['id']\n",
    "    \n",
    "    post.thumbnail = attachment_id\n",
    "    # post.post_status = 'publish'\n",
    "    post.id = wp.call(posts.NewPost(post))\n",
    "    \n",
    "    print(\"Successfully Posted to our Blog!!!\")"
   ]
  },
  {
   "cell_type": "code",
   "execution_count": 20,
   "id": "a857c44b",
   "metadata": {},
   "outputs": [
    {
     "name": "stdout",
     "output_type": "stream",
     "text": [
      "Successfully Posted to our Blog!!!\n"
     ]
    }
   ],
   "source": [
    "content = {\n",
    "    'title': \"This is first post\",\n",
    "    'body': \"This is the content of the Post.\",\n",
    "    'filename': 'python.jpg'\n",
    "}\n",
    "\n",
    "make_post_on_wp(content)"
   ]
  },
  {
   "cell_type": "code",
   "execution_count": 21,
   "id": "1b15c405",
   "metadata": {},
   "outputs": [
    {
     "name": "stdout",
     "output_type": "stream",
     "text": [
      "Successfully Posted to our Blog!!!\n"
     ]
    }
   ],
   "source": [
    "content = {\n",
    "    'title': \"This is second  post\",\n",
    "    'body': \"This is the content of the Post.\",\n",
    "    'filename': 'python.jpg'\n",
    "}\n",
    "\n",
    "make_post_on_wp(content)"
   ]
  },
  {
   "cell_type": "code",
   "execution_count": 36,
   "id": "af19cad2",
   "metadata": {},
   "outputs": [],
   "source": [
    "import requests\n",
    "import os\n",
    "from newspaper import Article\n",
    "from googletrans import Translator"
   ]
  },
  {
   "cell_type": "code",
   "execution_count": 32,
   "id": "e6e3db75",
   "metadata": {},
   "outputs": [],
   "source": [
    "def article_content(url):\n",
    "    content = dict()\n",
    "    article = Article(url, language=\"en\")\n",
    "    article.download()\n",
    "    article.parse()\n",
    "    content['title'] = article.title\n",
    "    content['body'] = article.text\n",
    "    \n",
    "    \n",
    "    #print(article.title)\n",
    "    #print(article.text)\n",
    "    #print(article.top_image)\n",
    "    \n",
    "    resp = requests.get(article.top_image)\n",
    "    with open('image.jpg', 'wb') as imagefile:\n",
    "        imagefile.write(resp.content)\n",
    "    \n",
    "    content['filename'] = 'image.jpg'\n",
    "    \n",
    "    \n",
    "    return content    "
   ]
  },
  {
   "cell_type": "code",
   "execution_count": 56,
   "id": "ce85c90b",
   "metadata": {},
   "outputs": [],
   "source": [
    "def translated_content(content, lang):\n",
    "    translate = Translator()\n",
    "    content_translated = dict()\n",
    "    \n",
    "    content_translated['title'] = translate.translate(content['title'], dest=lang).text\n",
    "    content_translated['body'] = translate.translate(content['body'], dest=lang).text\n",
    "    content_translated['filename'] = content['filename']\n",
    "    \n",
    "    \n",
    "    return content_translated"
   ]
  },
  {
   "cell_type": "code",
   "execution_count": 34,
   "id": "725b5360",
   "metadata": {
    "scrolled": true
   },
   "outputs": [
    {
     "name": "stdout",
     "output_type": "stream",
     "text": [
      "Title:  Malaika Arora Is A \"Self-Proclaimed Foodie And Chef\"; Here's Proof\n",
      "Body:  Let's admit it; no matter how much we love to eat outside, we get a different satisfaction from home-cooked food. It is not only the simple taste but also the comforting feeling we get from it. And if you are someone who loves to cook, then without a doub\n",
      "image:  image.jpg\n"
     ]
    }
   ],
   "source": [
    "url = \"https://food.ndtv.com/news/malaika-arora-is-a-self-proclaimed-foodie-and-chef-heres-proof-3190688?utm_source=taboolafood&utm_medium=exchange&tblci=GiBjnHQ3Bv2y75RgpU4qVIiKFLysWC0nOONGxjmKYMkePSDQ1z4o3vH3hqzKtYGjAQ\"\n",
    "\n",
    "\n",
    "ourArticle = article_content(url)\n",
    "print(\"Title: \",ourArticle['title'])\n",
    "print(\"Body: \", ourArticle['body'][0:255])\n",
    "print(\"image: \", ourArticle['filename'])"
   ]
  },
  {
   "cell_type": "code",
   "execution_count": 38,
   "id": "278e086d",
   "metadata": {
    "scrolled": true
   },
   "outputs": [
    {
     "name": "stdout",
     "output_type": "stream",
     "text": [
      "ملائکہ اروڑا ایک \"خود ساختہ فوڈی اور شیف\" ہیں۔ یہ رہا ثبوت\n"
     ]
    }
   ],
   "source": [
    "translate = Translator()\n",
    "\n",
    "out = translate.translate(ourArticle['title'], dest='ur')\n",
    "\n",
    "print(out.text)"
   ]
  },
  {
   "cell_type": "code",
   "execution_count": 44,
   "id": "866ecb8f",
   "metadata": {
    "scrolled": true
   },
   "outputs": [
    {
     "name": "stdout",
     "output_type": "stream",
     "text": [
      "{'title': 'ملائکہ اروڑا ایک \"خود ساختہ فوڈی اور شیف\" ہیں۔ یہ رہا ثبوت', 'body': 'چلو تسلیم کرتے ہیں؛ اس سے کوئی فرق نہیں پڑتا ہے کہ ہمیں باہر کا کھانا کتنا ہی پسند ہے، ہمیں گھر کے پکے کھانے سے ایک الگ ہی اطمینان ملتا ہے۔ یہ نہ صرف سادہ ذائقہ ہے بلکہ اس سے ہمیں آرام دہ احساس بھی ملتا ہے۔ اور اگر آپ کوئی ایسا شخص ہیں جو کھانا پکانا پسند کرتا ہے، تو بلا شبہ، باورچی خانے میں آپ کا وقت تھراپی کی طرح ہے! ہماری طرح بالی ووڈ کی اداکارہ ملائکہ اروڑا بھی کھانا پکانے اور کھانے کا شوق رکھتی ہیں۔ وہ اکثر اپنے سوشل میڈیا پر بے شمار کھانوں کے بارے میں پوسٹ کرتی رہتی ہیں۔ اس کی کہانیوں میں جو چیز ہم اکثر دیکھتے ہیں وہ ہے اس کے گھر کی پکی خوشیاں۔ کھچڑی، پاستا سے لے کر مزیدار سینڈوچ تک، ملائکہ یقیناً اکثر شیف کی ٹوپی پہنتی ہیں! حال ہی میں، اداکارہ نے تصاویر کی ایک سیریز کا اشتراک کیا جہاں انہوں نے اپنے کھانا پکانے کے بارے میں فخر کیا. یہ کہنے کی ضرورت نہیں کہ ان پکوانوں کو دیکھ کر ہم بھوکے رہ گئے ہیں۔\\n\\n\\n\\n\\n\\n(یہ بھی پڑھیں: جب ترکی میں، ملائکہ اروڑا ان مقامی کھانوں پر جھوم اٹھیں؛ تصویریں دیکھیں)\\n\\n\\n\\n\\n\\nملائکہ اروڑا نے ان تصویروں کو انسٹاگرام پر پوسٹ کیا۔ مختلف تصاویر میں، آپ کو کھیرے، ایوکاڈو اور فرائیڈ بٹس کے ساتھ چاول مل سکتے ہیں، ایک مزیدار نظر آنے والا ٹوسٹ، ایک مشروب، سینڈوچ، پاستا، چکن رائس، اور ایک دعوت جس میں دال مکھنی، چکن، چاول، پیلی دال، سبزیاں شامل تھیں۔ ، اور ککڑی کا ترکاریاں! اپنی پوسٹ کے کیپشن میں، اس نے لکھا، \"#photodump, #homemade #gharkakhana #theweekthatwas خود ساختہ کھانے کے شوقین اور شیف۔ کھانے سے لطف اندوز ہونے والے لوگ خوش ہوتے ہیں- جولیا چائلڈ۔\" ذیل میں اس کی پوسٹ پر ایک نظر ڈالیں:\\n\\n\\n\\n\\n\\nکیا اس کے گھر کا پکا ہوا کھانا حیرت انگیز نہیں لگتا؟ جب کہ ملائکہ ہر قسم کے کھانے بناتی ہے، ان کے انسٹاگرام کی کہانیوں میں اکثر جنوبی ہندوستانی لذت اور بریانی شامل ہوتی ہیں! ابھی کچھ دن پہلے ہی ملائکہ نے ایک بار پھر خود کو مرکو بنا کر پوسٹ کیا تھا۔ اس نے لکھا، \"گھریلو مرکّس... اس موسم کے لیے بہترین۔\" پھر اگلی ہی پوسٹ میں، وہ آلو کی سائیڈ ڈش کے ساتھ مزیدار ایویال کے پیالے میں بھی شامل نظر آئیں! آپ یہاں اس کے بارے میں سب کچھ پڑھ سکتے ہیں۔\\n\\n\\n\\n\\n\\n(یہ بھی پڑھیں: ملائکہ اروڑا کا آرام دہ جنوبی ہندوستانی ناشتہ آپ کو اس ڈش کو ترس جائے گا؛ تصویریں دیکھیں)\\n\\n\\n\\n\\n\\nجیسا کہ ملائکہ اروڑا گھر کی یہ مزیدار لذتیں بناتی رہتی ہیں، وہ واقعی ہر بار ہمیں بھوکا بناتی ہے! اب، ہم یہ دیکھنے کے لیے انتظار نہیں کر سکتے کہ اس کی پلیٹ میں آگے کیا ہوگا۔ آپ اس کے بارے میں کیا سوچتے ہیں؟ ہمیں نیچے تبصروں میں بتائیں۔'}\n"
     ]
    }
   ],
   "source": [
    "our_translated = translated_content(article_content(url), 'ur')\n",
    "print(our_translated)"
   ]
  },
  {
   "cell_type": "code",
   "execution_count": 48,
   "id": "0320da09",
   "metadata": {
    "scrolled": true
   },
   "outputs": [
    {
     "name": "stdout",
     "output_type": "stream",
     "text": [
      "Let's admit it; no matter how much we love to eat outside, we get a different satisfaction from home-cooked food. It is not only the simple taste but also the comforting feeling we get from it. And if you are someone who loves to cook, then without a doubt, your time in the kitchen is like therapy! Just like us, Bollywood diva Malaika Arora also enjoys cooking and eating. She often posts about having a myriad of foods on her social media. Something frequent that we spot in her stories is her home-cooked delights. From khichdi, pasta to yummy sandwiches, Malaika surely wears a chef's hat often! Recently, the actress shared a series of photos where she boasted about her cooking. Needless to say, looking at these dishes has left us hungry.\n",
      "\n",
      "\n",
      "\n",
      "\n",
      "\n",
      "(Also Read: When In Turkey, Malaika Arora Gorges On These Local Foods; See Pics)\n",
      "\n",
      "\n",
      "\n",
      "\n",
      "\n",
      "Malaika Arora posted these snapshots on Instagram. In the various photos, you can find rice with cucumbers, avocado, and fried bits, a delicious-looking toast, a drink, sandwiches, pasta, chicken rice, and a feast that featured dal makhani, chicken, rice, yellow dal, greens, and cucumber salad! In the caption of her post, she wrote, \"#photodump, #homemade #gharkakhana #theweekthatwas self-proclaimed foodie and chef. People who enjoy food are happy people- Julia Child.\" Take a look at her post below:\n",
      "\n",
      "\n",
      "\n",
      "\n",
      "\n",
      "Doesn't her home-cooked food look amazing? While Malaika makes all kinds of food, her Instagram stories often feature South Indian delights and biryanis! Just a few days ago, Malaika had again made a post of herself making murukku. She wrote, \"Homemade murukkus... perfect for this weather.\" Then in the very next post, she was also seen indulging in a bowl of yummy Avial with a potato side dish! You can read all about it here.\n",
      "\n",
      "\n",
      "\n",
      "\n",
      "\n",
      "(Also Read: Malaika Arora's Comforting South Indian Breakfast Will Make You Crave This Dish; See Pics)\n",
      "\n",
      "\n",
      "\n",
      "\n",
      "\n",
      "As Malaika Arora keeps making these yummy homemade delights, she indeed makes us hungry each time! Now, we can't wait to see what will be next on her plate. What do you think about it? Let us know in the comments below.\n",
      "\n",
      "\n",
      "\n",
      "\n"
     ]
    }
   ],
   "source": [
    "content = dict()\n",
    "article = Article(url, language=\"en\")\n",
    "article.download()\n",
    "article.parse()\n",
    "print(article.text)"
   ]
  },
  {
   "cell_type": "code",
   "execution_count": null,
   "id": "cd4981d4",
   "metadata": {},
   "outputs": [],
   "source": []
  },
  {
   "cell_type": "code",
   "execution_count": 52,
   "id": "68955db5",
   "metadata": {},
   "outputs": [],
   "source": [
    "article.parse()"
   ]
  },
  {
   "cell_type": "code",
   "execution_count": 55,
   "id": "566654b7",
   "metadata": {},
   "outputs": [
    {
     "data": {
      "text/plain": [
       "''"
      ]
     },
     "execution_count": 55,
     "metadata": {},
     "output_type": "execute_result"
    }
   ],
   "source": [
    "article.summary"
   ]
  },
  {
   "cell_type": "code",
   "execution_count": 58,
   "id": "efec5e05",
   "metadata": {},
   "outputs": [
    {
     "name": "stdout",
     "output_type": "stream",
     "text": [
      "Successfully Posted to our Blog!!!\n"
     ]
    }
   ],
   "source": [
    "make_post_on_wp(translated_content(article_content(url), \"ur\"))"
   ]
  }
 ],
 "metadata": {
  "kernelspec": {
   "display_name": "Python 3 (ipykernel)",
   "language": "python",
   "name": "python3"
  },
  "language_info": {
   "codemirror_mode": {
    "name": "ipython",
    "version": 3
   },
   "file_extension": ".py",
   "mimetype": "text/x-python",
   "name": "python",
   "nbconvert_exporter": "python",
   "pygments_lexer": "ipython3",
   "version": "3.10.5"
  }
 },
 "nbformat": 4,
 "nbformat_minor": 5
}
